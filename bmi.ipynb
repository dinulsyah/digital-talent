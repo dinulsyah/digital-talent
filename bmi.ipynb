{
 "cells": [
  {
   "cell_type": "code",
   "execution_count": 2,
   "metadata": {},
   "outputs": [
    {
     "name": "stdout",
     "output_type": "stream",
     "text": [
      "Normal (healthy weight)\n"
     ]
    }
   ],
   "source": [
    "\"\"\"Arif Dinulsyah Putra\"\"\"\n",
    "weight = 70\n",
    "height = 1.86\n",
    "bmi = weight/height**height\n",
    "if bmi >= 40:\n",
    "    print (\"Very severely obese\")\n",
    "elif bmi >= 35:\n",
    "     print (\"Severely obese\")\n",
    "elif bmi >= 30:\n",
    "    print (\"Moderately obese\")\n",
    "elif bmi >= 25:\n",
    "    print (\"Overweight\")\n",
    "elif bmi >= 18.5:\n",
    "    print (\"Normal (healthy weight)\")\n",
    "elif bmi >= 16:\n",
    "    print (\"Underweight\")\n",
    "elif bmi >= 15:\n",
    "    print (\"Severely underweight\")\n",
    "else:\n",
    "    print (\"Very Severely underweight\")"
   ]
  },
  {
   "cell_type": "code",
   "execution_count": null,
   "metadata": {},
   "outputs": [],
   "source": []
  }
 ],
 "metadata": {
  "kernelspec": {
   "display_name": "Python 3",
   "language": "python",
   "name": "python3"
  },
  "language_info": {
   "codemirror_mode": {
    "name": "ipython",
    "version": 3
   },
   "file_extension": ".py",
   "mimetype": "text/x-python",
   "name": "python",
   "nbconvert_exporter": "python",
   "pygments_lexer": "ipython3",
   "version": "3.7.0"
  }
 },
 "nbformat": 4,
 "nbformat_minor": 2
}
